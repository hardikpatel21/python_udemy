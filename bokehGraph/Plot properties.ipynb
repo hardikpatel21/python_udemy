{
 "cells": [
  {
   "cell_type": "code",
   "execution_count": 4,
   "metadata": {},
   "outputs": [],
   "source": [
    "# making a basic Bokeh Line graph\n",
    "\n",
    "# importing Bokeh and pandas\n",
    "from bokeh.plotting import figure\n",
    "from bokeh.io import output_file, show\n",
    "import pandas\n",
    "\n",
    "# create figure object\n",
    "# add a title to the plot, set the figure width and height, change title font, etc. \n",
    "# Below is a summary of properties can be added to change the style of the plot:\n",
    "p=figure(plot_width=500,plot_height=400, tools='pan', logo=None)\n",
    "\n",
    "p.title.text=\"Cool Data\"\n",
    "p.title.text_color=\"Gray\"\n",
    "p.title.text_font = \"times\"\n",
    "p.title.text_font_style = \"bold\"\n",
    "p.xaxis.minor_tick_line_color=None\n",
    "p.yaxis.minor_tick_line_color=None\n",
    "p.xaxis.axis_label=\"Data\"\n",
    "p.yaxis.axis_label=\"Intensify\"\n",
    "\n",
    "# prepare some data \n",
    "x=[1,2,3,4,5] # x-axis data\n",
    "y=[6,7,8,9,10] # y-axis data\n",
    "\n",
    "#create Line plot\n",
    "p.line(x,y)\n",
    "# prepare the output file\n",
    "output_file(\"graph.html\")\n",
    "\n",
    "# write the plot in the figue object\n",
    "show(p)"
   ]
  }
 ],
 "metadata": {
  "kernelspec": {
   "display_name": "Python 3",
   "language": "python",
   "name": "python3"
  },
  "language_info": {
   "codemirror_mode": {
    "name": "ipython",
    "version": 3
   },
   "file_extension": ".py",
   "mimetype": "text/x-python",
   "name": "python",
   "nbconvert_exporter": "python",
   "pygments_lexer": "ipython3",
   "version": "3.7.0"
  }
 },
 "nbformat": 4,
 "nbformat_minor": 2
}
