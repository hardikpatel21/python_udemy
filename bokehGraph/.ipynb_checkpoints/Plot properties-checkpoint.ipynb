{
 "cells": [
  {
   "cell_type": "code",
   "execution_count": null,
   "metadata": {},
   "outputs": [],
   "source": [
    "# making a basic Bokeh Line graph\n",
    "\n",
    "# importing Bokeh and pandas\n",
    "from bokeh.plotting import figure\n",
    "from bokeh.io import output_file, show\n",
    "import pandas\n",
    "\n",
    "# create figure object\n",
    "p=figure()\n",
    "\n",
    "# prepare some data \n",
    "x=[1,2,3,4,5] # x-axis data\n",
    "y=[6,7,8,9,10] # y-axis data\n",
    "\n",
    "#create Line plot\n",
    "p.line(x,y)\n",
    "# prepare the output file\n",
    "output_file(\"graph.html\")\n",
    "\n",
    "# write the plot in the figue object\n",
    "show(p)"
   ]
  }
 ],
 "metadata": {
  "kernelspec": {
   "display_name": "Python 3",
   "language": "python",
   "name": "python3"
  },
  "language_info": {
   "codemirror_mode": {
    "name": "ipython",
    "version": 3
   },
   "file_extension": ".py",
   "mimetype": "text/x-python",
   "name": "python",
   "nbconvert_exporter": "python",
   "pygments_lexer": "ipython3",
   "version": "3.7.0"
  }
 },
 "nbformat": 4,
 "nbformat_minor": 2
}
