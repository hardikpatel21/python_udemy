{
 "cells": [
  {
   "cell_type": "code",
   "execution_count": 4,
   "metadata": {},
   "outputs": [],
   "source": [
    "# making a basic Bokeh Line graph\n",
    "\n",
    "# importing Bokeh\n",
    "from bokeh.plotting import figure\n",
    "from bokeh.io import output_file, show\n",
    "\n",
    "# prepare some data\n",
    "x=[1,2,3,4,5] # x-axis data\n",
    "y=[6,7,8,9,10] # y-axis data\n",
    "\n",
    "# prepare the output file\n",
    "output_file(\"Line.html\")\n",
    "\n",
    "# create figure object\n",
    "f=figure()\n",
    "\n",
    "#create Line plot\n",
    "f.circle(x,y)\n",
    "\n",
    "# write the plot in the figue object\n",
    "show(f)"
   ]
  },
  {
   "cell_type": "code",
   "execution_count": 5,
   "metadata": {},
   "outputs": [],
   "source": [
    "# making a basic Bokeh Line graph\n",
    "\n",
    "# importing Bokeh and pandas\n",
    "from bokeh.plotting import figure\n",
    "from bokeh.io import output_file, show\n",
    "import pandas\n",
    "\n",
    "# prepare some data \n",
    "df=pandas.read_csv(\"data.csv\")\n",
    "x=df[\"x\"] # x-axis data\n",
    "y=df[\"y\"] # y-axis data\n",
    "\n",
    "# prepare the output file\n",
    "output_file(\"Line_from_csv.html\")\n",
    "\n",
    "# create figure object\n",
    "f=figure()\n",
    "\n",
    "#create Line plot\n",
    "f.line(x,y)\n",
    "\n",
    "# write the plot in the figue object\n",
    "show(f)"
   ]
  },
  {
   "cell_type": "code",
   "execution_count": null,
   "metadata": {},
   "outputs": [],
   "source": [
    "# making a basic Bokeh Line graph\n",
    "\n",
    "# importing Bokeh and pandas\n",
    "from bokeh.plotting import figure\n",
    "from bokeh.io import output_file, show\n",
    "import pandas\n",
    "\n",
    "# prepare some data \n",
    "df=pandas.read_csv(\"http://pythonhow.com/data/bachelors.csv\")\n",
    "x=df[\"x\"] # x-axis data\n",
    "y=df[\"y\"] # y-axis data\n",
    "\n",
    "# prepare the output file\n",
    "output_file(\"Line_from_bachelors_csv.html\")\n",
    "\n",
    "# create figure object\n",
    "f3=figure()\n",
    "\n",
    "#create Line plot\n",
    "f3.line(x,y)\n",
    "\n",
    "# write the plot in the figue object\n",
    "show(f3)"
   ]
  }
 ],
 "metadata": {
  "kernelspec": {
   "display_name": "Python 3",
   "language": "python",
   "name": "python3"
  },
  "language_info": {
   "codemirror_mode": {
    "name": "ipython",
    "version": 3
   },
   "file_extension": ".py",
   "mimetype": "text/x-python",
   "name": "python",
   "nbconvert_exporter": "python",
   "pygments_lexer": "ipython3",
   "version": "3.7.0"
  }
 },
 "nbformat": 4,
 "nbformat_minor": 2
}
